{
 "cells": [
  {
   "cell_type": "code",
   "execution_count": 305,
   "id": "688def8f",
   "metadata": {},
   "outputs": [],
   "source": [
    "import pandas as pd\n",
    "import seaborn as sns\n",
    "import matplotlib.pyplot as plt\n",
    "from sklearn.ensemble import RandomForestClassifier\n",
    "from sklearn.svm import SVC\n",
    "from sklearn import svm\n",
    "from sklearn.metrics import confusion_matrix, classification_report\n",
    "from sklearn.preprocessing import StandardScaler, LabelEncoder\n",
    "from sklearn.model_selection import train_test_split\n",
    "from sklearn.naive_bayes import GaussianNB\n",
    "import numpy as np\n",
    "%matplotlib inline"
   ]
  },
  {
   "cell_type": "code",
   "execution_count": 306,
   "id": "b9e7bcd9",
   "metadata": {},
   "outputs": [
    {
     "data": {
      "text/html": [
       "<div>\n",
       "<style scoped>\n",
       "    .dataframe tbody tr th:only-of-type {\n",
       "        vertical-align: middle;\n",
       "    }\n",
       "\n",
       "    .dataframe tbody tr th {\n",
       "        vertical-align: top;\n",
       "    }\n",
       "\n",
       "    .dataframe thead th {\n",
       "        text-align: right;\n",
       "    }\n",
       "</style>\n",
       "<table border=\"1\" class=\"dataframe\">\n",
       "  <thead>\n",
       "    <tr style=\"text-align: right;\">\n",
       "      <th></th>\n",
       "      <th>age</th>\n",
       "      <th>workclass</th>\n",
       "      <th>education</th>\n",
       "      <th>education-num</th>\n",
       "      <th>marital-status</th>\n",
       "      <th>occupation</th>\n",
       "      <th>relationship</th>\n",
       "      <th>race</th>\n",
       "      <th>sex</th>\n",
       "      <th>capital-gain</th>\n",
       "      <th>capital-loss</th>\n",
       "      <th>hours-per-week</th>\n",
       "      <th>native-country</th>\n",
       "      <th>income &gt;50K</th>\n",
       "    </tr>\n",
       "  </thead>\n",
       "  <tbody>\n",
       "    <tr>\n",
       "      <th>0</th>\n",
       "      <td>66</td>\n",
       "      <td>State-gov</td>\n",
       "      <td>Bachelors</td>\n",
       "      <td>13</td>\n",
       "      <td>Never-married</td>\n",
       "      <td>Adm-clerical</td>\n",
       "      <td>Not-in-family</td>\n",
       "      <td>White</td>\n",
       "      <td>Male</td>\n",
       "      <td>2174</td>\n",
       "      <td>0</td>\n",
       "      <td>40</td>\n",
       "      <td>United-States</td>\n",
       "      <td>0</td>\n",
       "    </tr>\n",
       "    <tr>\n",
       "      <th>1</th>\n",
       "      <td>50</td>\n",
       "      <td>Self-emp-not-inc</td>\n",
       "      <td>Bachelors</td>\n",
       "      <td>13</td>\n",
       "      <td>Married-civ-spouse</td>\n",
       "      <td>Exec-managerial</td>\n",
       "      <td>Husband</td>\n",
       "      <td>White</td>\n",
       "      <td>Male</td>\n",
       "      <td>0</td>\n",
       "      <td>0</td>\n",
       "      <td>13</td>\n",
       "      <td>United-States</td>\n",
       "      <td>0</td>\n",
       "    </tr>\n",
       "    <tr>\n",
       "      <th>2</th>\n",
       "      <td>38</td>\n",
       "      <td>Private</td>\n",
       "      <td>HS-grad</td>\n",
       "      <td>9</td>\n",
       "      <td>Divorced</td>\n",
       "      <td>Handlers-cleaners</td>\n",
       "      <td>Not-in-family</td>\n",
       "      <td>White</td>\n",
       "      <td>Male</td>\n",
       "      <td>0</td>\n",
       "      <td>0</td>\n",
       "      <td>40</td>\n",
       "      <td>United-States</td>\n",
       "      <td>0</td>\n",
       "    </tr>\n",
       "    <tr>\n",
       "      <th>3</th>\n",
       "      <td>53</td>\n",
       "      <td>Private</td>\n",
       "      <td>11th</td>\n",
       "      <td>7</td>\n",
       "      <td>Married-civ-spouse</td>\n",
       "      <td>Handlers-cleaners</td>\n",
       "      <td>Husband</td>\n",
       "      <td>Black</td>\n",
       "      <td>Male</td>\n",
       "      <td>0</td>\n",
       "      <td>0</td>\n",
       "      <td>40</td>\n",
       "      <td>United-States</td>\n",
       "      <td>0</td>\n",
       "    </tr>\n",
       "    <tr>\n",
       "      <th>4</th>\n",
       "      <td>28</td>\n",
       "      <td>Private</td>\n",
       "      <td>Bachelors</td>\n",
       "      <td>13</td>\n",
       "      <td>Married-civ-spouse</td>\n",
       "      <td>Prof-specialty</td>\n",
       "      <td>Wife</td>\n",
       "      <td>Black</td>\n",
       "      <td>Female</td>\n",
       "      <td>0</td>\n",
       "      <td>0</td>\n",
       "      <td>40</td>\n",
       "      <td>Cuba</td>\n",
       "      <td>0</td>\n",
       "    </tr>\n",
       "  </tbody>\n",
       "</table>\n",
       "</div>"
      ],
      "text/plain": [
       "   age         workclass  education  education-num      marital-status  \\\n",
       "0   66         State-gov  Bachelors             13       Never-married   \n",
       "1   50  Self-emp-not-inc  Bachelors             13  Married-civ-spouse   \n",
       "2   38           Private    HS-grad              9            Divorced   \n",
       "3   53           Private       11th              7  Married-civ-spouse   \n",
       "4   28           Private  Bachelors             13  Married-civ-spouse   \n",
       "\n",
       "          occupation   relationship   race     sex  capital-gain  \\\n",
       "0       Adm-clerical  Not-in-family  White    Male          2174   \n",
       "1    Exec-managerial        Husband  White    Male             0   \n",
       "2  Handlers-cleaners  Not-in-family  White    Male             0   \n",
       "3  Handlers-cleaners        Husband  Black    Male             0   \n",
       "4     Prof-specialty           Wife  Black  Female             0   \n",
       "\n",
       "   capital-loss  hours-per-week native-country  income >50K  \n",
       "0             0              40  United-States            0  \n",
       "1             0              13  United-States            0  \n",
       "2             0              40  United-States            0  \n",
       "3             0              40  United-States            0  \n",
       "4             0              40           Cuba            0  "
      ]
     },
     "execution_count": 306,
     "metadata": {},
     "output_type": "execute_result"
    }
   ],
   "source": [
    "data = pd.read_csv('./dataset/income.csv')\n",
    "data.head()"
   ]
  },
  {
   "cell_type": "code",
   "execution_count": 307,
   "id": "0f71941a",
   "metadata": {},
   "outputs": [
    {
     "data": {
      "text/plain": [
       "age                  0\n",
       "workclass         1836\n",
       "education            0\n",
       "education-num        0\n",
       "marital-status       0\n",
       "occupation        1843\n",
       "relationship         0\n",
       "race                 0\n",
       "sex                  0\n",
       "capital-gain         0\n",
       "capital-loss         0\n",
       "hours-per-week       0\n",
       "native-country     583\n",
       "income >50K          0\n",
       "dtype: int64"
      ]
     },
     "execution_count": 307,
     "metadata": {},
     "output_type": "execute_result"
    }
   ],
   "source": [
    "## Check that there are no missing values\n",
    "data.isnull().sum()"
   ]
  },
  {
   "cell_type": "markdown",
   "id": "06d4e9c9",
   "metadata": {},
   "source": [
    "## Data processing\n",
    "Going through our data we noticed that it had some empty values in the workclass and occupation columns. Given the size of our dataset we feel safe removing them"
   ]
  },
  {
   "cell_type": "code",
   "execution_count": 308,
   "id": "2c545ffa",
   "metadata": {},
   "outputs": [
    {
     "data": {
      "text/plain": [
       "age               0\n",
       "workclass         0\n",
       "education         0\n",
       "education-num     0\n",
       "marital-status    0\n",
       "occupation        0\n",
       "relationship      0\n",
       "race              0\n",
       "sex               0\n",
       "capital-gain      0\n",
       "capital-loss      0\n",
       "hours-per-week    0\n",
       "native-country    0\n",
       "income >50K       0\n",
       "dtype: int64"
      ]
     },
     "execution_count": 308,
     "metadata": {},
     "output_type": "execute_result"
    }
   ],
   "source": [
    "# Replace all NaN in workclass, occupation and native-country to Unemployed\n",
    "data.dropna(subset = [\"workclass\", \"occupation\", \"native-country\"], axis = 0, inplace = True)\n",
    "data.isnull().sum()"
   ]
  },
  {
   "cell_type": "markdown",
   "id": "8267017c",
   "metadata": {},
   "source": [
    "## Discretization\n",
    "There are 4 non-discrete columns: education-num, capital-gains, capital-loss, hours-per-week. \n",
    "\n",
    "Firstly, we will be dropping the education-num column as it is just a coded version of the education column.\n",
    "\n",
    "capital-gains: <5000, 5000-10000, >10000  \n",
    "capital-loss: this feature doesn't seem to distinguish anything so we will yeet it.  \n",
    "hours-per-week: <20, 20-40, 40-60, >60  \n"
   ]
  },
  {
   "cell_type": "code",
   "execution_count": 309,
   "id": "5d51828b",
   "metadata": {},
   "outputs": [],
   "source": [
    "# Start by dropping columns we don't need\n",
    "data.drop(['education-num'], axis=1, inplace=True)\n",
    "\n",
    "# Now we need to discretized our values\n",
    "ageBins = (0, 18, 25, 35, 45, 55, 65, 999)\n",
    "ageLabels = ['<18', '18-25', '25-35', '35-45', '45-55', '55-65', '>65']\n",
    "\n",
    "## set our lower bound to -1 to include 0 in the first bin\n",
    "capitalGainBins = (-1, 5000, 10000, 99999999)\n",
    "capitalGainLabels = ['<5000', '5000-10000', '>10000']\n",
    "\n",
    "hoursPerWeekBins = (-1, 20, 30, 40, 50, 60, 999999)\n",
    "hoursPerWeekLabels = ['<20', '20-30', '30-40', '40-50', '40-60', '>60']\n",
    "\n",
    "capitalLossBins = (-1, 5000, 10000, 99999999)\n",
    "capitalLossLabels = ['<5000', '5000-10000', '>10000']\n",
    "\n",
    "\n",
    "data['age'] = pd.cut(data['age'], bins=ageBins, labels=ageLabels)\n",
    "data['capital-gain'] = pd.cut(data['capital-gain'], bins=capitalGainBins, labels=capitalGainLabels)\n",
    "data['hours-per-week'] = pd.cut(data['hours-per-week'], bins=hoursPerWeekBins, labels=hoursPerWeekLabels)\n",
    "data['capital-loss'] = pd.cut(data['capital-loss'], bins=capitalLossBins, labels=capitalLossLabels)\n"
   ]
  },
  {
   "cell_type": "markdown",
   "id": "761e583f",
   "metadata": {},
   "source": [
    "Now that our preprocessing is done, we are ready to classify"
   ]
  },
  {
   "cell_type": "code",
   "execution_count": 310,
   "id": "b8d293b8",
   "metadata": {},
   "outputs": [],
   "source": [
    "encode = LabelEncoder()\n",
    "\n",
    "data['capital-gain'] = encode.fit_transform(data['capital-gain'])\n",
    "data['workclass'] = encode.fit_transform(data['workclass'])\n",
    "data['education'] = encode.fit_transform(data['education'])\n",
    "data['occupation'] = encode.fit_transform(data['occupation'])\n",
    "data['race'] = encode.fit_transform(data['race'])\n",
    "data['sex'] = encode.fit_transform(data['sex'])\n",
    "data['native-country'] = encode.fit_transform(data['native-country'])\n",
    "data['marital-status'] = encode.fit_transform(data['marital-status'])\n",
    "data['relationship'] = encode.fit_transform(data['relationship'])\n",
    "data['hours-per-week'] = encode.fit_transform(data['hours-per-week'])\n",
    "data['capital-loss'] = encode.fit_transform(data['capital-loss'])\n",
    "data['capital-gain'] = encode.fit_transform(data['capital-gain'])"
   ]
  },
  {
   "cell_type": "code",
   "execution_count": 312,
   "id": "e1aa3406",
   "metadata": {},
   "outputs": [
    {
     "name": "stdout",
     "output_type": "stream",
     "text": [
      "Number of mislabeled points out of a total 9049 points : 1896\n"
     ]
    }
   ],
   "source": [
    "X = data.drop('income >50K', axis=1)\n",
    "y = data['income >50K']\n",
    "\n",
    "X_train, X_test, y_train, y_test = train_test_split(X, y, test_size=0.3, random_state=42)\n",
    "\n",
    "gnb = GaussianNB()\n",
    "\n",
    "y_pred = gnb.fit(X_train, y_train).predict(X_test)\n",
    "\n",
    "print(\"Number of mislabeled points out of a total %d points : %d\" % (X_test.shape[0], (y_test != y_pred).sum()))\n"
   ]
  }
 ],
 "metadata": {
  "kernelspec": {
   "display_name": "Python 3.9.7 ('.venv': venv)",
   "language": "python",
   "name": "python3"
  },
  "language_info": {
   "codemirror_mode": {
    "name": "ipython",
    "version": 3
   },
   "file_extension": ".py",
   "mimetype": "text/x-python",
   "name": "python",
   "nbconvert_exporter": "python",
   "pygments_lexer": "ipython3",
   "version": "3.9.7"
  },
  "vscode": {
   "interpreter": {
    "hash": "cd5094ee405b6d8f91719eda442d688ff95be0823cbf7f1277ef22d925afe158"
   }
  }
 },
 "nbformat": 4,
 "nbformat_minor": 5
}
